{
 "cells": [
  {
   "cell_type": "code",
   "execution_count": 1,
   "metadata": {
    "colab": {
     "base_uri": "https://localhost:8080/",
     "height": 35
    },
    "colab_type": "code",
    "executionInfo": {
     "elapsed": 3599,
     "status": "ok",
     "timestamp": 1566964895732,
     "user": {
      "displayName": "soheil dolat abadi",
      "photoUrl": "https://lh3.googleusercontent.com/a-/AAuE7mALJS8DLbLV2unGYvrAPXL1Ivffmtu-4cnx8PS38w=s64",
      "userId": "02077162147241112154"
     },
     "user_tz": -270
    },
    "id": "1Vn-bUQJrlIm",
    "outputId": "67347310-44aa-49e1-8421-33e649140179"
   },
   "outputs": [
    {
     "name": "stderr",
     "output_type": "stream",
     "text": [
      "Using TensorFlow backend.\n"
     ]
    }
   ],
   "source": [
    "import pandas as pd\n",
    "import numpy as np\n",
    "import string\n",
    "from string import digits\n",
    "import matplotlib.pyplot as plt\n",
    "%matplotlib inline\n",
    "import re\n",
    "from sklearn.utils import shuffle\n",
    "from sklearn.model_selection import train_test_split\n",
    "from keras.layers import Input, LSTM, Embedding, Dense\n",
    "from keras.models import Model\n",
    "import codecs"
   ]
  },
  {
   "cell_type": "code",
   "execution_count": 0,
   "metadata": {
    "colab": {},
    "colab_type": "code",
    "id": "zZam8WiIcgcr"
   },
   "outputs": [],
   "source": [
    "def read_sentences(file_path,num):\n",
    "    sentences = []\n",
    "\n",
    "    with open(file_path, 'r') as reader:\n",
    "        for s in reader:\n",
    "            if num==1:\n",
    "                sentences.append(s.strip())\n",
    "            else:\n",
    "                sentences.append(codecs.unicode_escape_decode(s)[0].strip())\n",
    "\n",
    "    return sentences\n",
    "sn_sentences = read_sentences('bible.san',0)\n",
    "en_sentences = read_sentences('bible.en',1)\n",
    "lines=pd.DataFrame()\n",
    "lines['san']=sn_sentences\n",
    "lines['eng']=en_sentences\n",
    "\n",
    "# lines2= pd.read_csv('/content/drive/My Drive/NN/data_san/new/Gita-data.csv',names=['san','eng'])\n",
    "# lines2.drop([lines2.index[0]])\n",
    "\n",
    "# lines=pd.DataFrame()\n",
    "# lines=pd.concat([lines1,lines2.iloc[:,1:3]])"
   ]
  },
  {
   "cell_type": "code",
   "execution_count": 0,
   "metadata": {
    "colab": {},
    "colab_type": "code",
    "id": "-rco4poZrlIw"
   },
   "outputs": [],
   "source": [
    "# Lowercase all characters\n",
    "lines.eng=lines.eng.apply(lambda x: x.lower())\n",
    "lines.san=lines.san.apply(lambda x: x.lower())"
   ]
  },
  {
   "cell_type": "code",
   "execution_count": 0,
   "metadata": {
    "colab": {},
    "colab_type": "code",
    "id": "nZWG_L3wrlIz"
   },
   "outputs": [],
   "source": [
    "# Remove quotes\n",
    "lines.eng=lines.eng.apply(lambda x: re.sub(\"'\", '', x))\n",
    "lines.san=lines.san.apply(lambda x: re.sub(\"'\", '', x))"
   ]
  },
  {
   "cell_type": "code",
   "execution_count": 0,
   "metadata": {
    "colab": {},
    "colab_type": "code",
    "id": "kRIVlxnqrlI3"
   },
   "outputs": [],
   "source": [
    "exclude = set(string.punctuation) # Set of all special characters\n",
    "# Remove all the special characters\n",
    "lines.eng=lines.eng.apply(lambda x: ''.join(ch for ch in x if ch not in exclude))\n",
    "lines.san=lines.san.apply(lambda x: ''.join(ch for ch in x if ch not in exclude))"
   ]
  },
  {
   "cell_type": "code",
   "execution_count": 0,
   "metadata": {
    "colab": {},
    "colab_type": "code",
    "id": "DWdyfueMrlI6"
   },
   "outputs": [],
   "source": [
    "# Remove all numbers from text\n",
    "remove_digits = str.maketrans('', '', digits)\n",
    "lines.eng=lines.eng.apply(lambda x: x.translate(remove_digits))\n",
    "lines.san = lines.san.apply(lambda x: re.sub(\"[२३०८१५७९४६]\", \"\", x))"
   ]
  },
  {
   "cell_type": "code",
   "execution_count": 0,
   "metadata": {
    "colab": {},
    "colab_type": "code",
    "id": "C1jMrzk5rlI9"
   },
   "outputs": [],
   "source": [
    "# Remove extra spaces\n",
    "lines.eng=lines.eng.apply(lambda x: x.strip())\n",
    "lines.san=lines.san.apply(lambda x: x.strip())\n",
    "lines.eng=lines.eng.apply(lambda x: re.sub(\" +\", \" \", x))\n",
    "lines.san=lines.san.apply(lambda x: re.sub(\" +\", \" \", x))"
   ]
  },
  {
   "cell_type": "code",
   "execution_count": 0,
   "metadata": {
    "colab": {},
    "colab_type": "code",
    "id": "JkPZQpxNrlI_"
   },
   "outputs": [],
   "source": [
    "# Add start and end tokens to target sequences\n",
    "lines.eng = lines.eng.apply(lambda x : 'START_ '+ x + ' _END')"
   ]
  },
  {
   "cell_type": "code",
   "execution_count": 10,
   "metadata": {
    "colab": {
     "base_uri": "https://localhost:8080/",
     "height": 355
    },
    "colab_type": "code",
    "executionInfo": {
     "elapsed": 934,
     "status": "ok",
     "timestamp": 1566964948028,
     "user": {
      "displayName": "soheil dolat abadi",
      "photoUrl": "https://lh3.googleusercontent.com/a-/AAuE7mALJS8DLbLV2unGYvrAPXL1Ivffmtu-4cnx8PS38w=s64",
      "userId": "02077162147241112154"
     },
     "user_tz": -270
    },
    "id": "Ao55eS8krlJE",
    "outputId": "d8b8fcca-cf53-4416-ab3b-0d3cdf41b358"
   },
   "outputs": [
    {
     "data": {
      "text/html": [
       "<div>\n",
       "<style scoped>\n",
       "    .dataframe tbody tr th:only-of-type {\n",
       "        vertical-align: middle;\n",
       "    }\n",
       "\n",
       "    .dataframe tbody tr th {\n",
       "        vertical-align: top;\n",
       "    }\n",
       "\n",
       "    .dataframe thead th {\n",
       "        text-align: right;\n",
       "    }\n",
       "</style>\n",
       "<table border=\"1\" class=\"dataframe\">\n",
       "  <thead>\n",
       "    <tr style=\"text-align: right;\">\n",
       "      <th></th>\n",
       "      <th>san</th>\n",
       "      <th>eng</th>\n",
       "    </tr>\n",
       "  </thead>\n",
       "  <tbody>\n",
       "    <tr>\n",
       "      <th>5045</th>\n",
       "      <td>किन्तूर्द्ध्वाद् आगतं यत् ज्ञानं तत् प्रथमं शु...</td>\n",
       "      <td>START_ but the wisdom that is from above is fi...</td>\n",
       "    </tr>\n",
       "    <tr>\n",
       "      <th>2772</th>\n",
       "      <td>ततः स तृतीयवारं जगाद कुतः स किं कर्म्म कृतवान्...</td>\n",
       "      <td>START_ and he said unto them the third time wh...</td>\n",
       "    </tr>\n",
       "    <tr>\n",
       "      <th>3655</th>\n",
       "      <td>अपरम् अष्टमेऽह्नि गते सति थोमासहितः शिष्यगण एक...</td>\n",
       "      <td>START_ and after eight days again his disciple...</td>\n",
       "    </tr>\n",
       "    <tr>\n",
       "      <th>133</th>\n",
       "      <td>किन्त्वहं युष्मान् वदामि यूयं रिपुव्वपि प्रेम ...</td>\n",
       "      <td>START_ but i say unto you love your enemies bl...</td>\n",
       "    </tr>\n",
       "    <tr>\n",
       "      <th>824</th>\n",
       "      <td>दुष्कर्म्मणां बाहुल्याञ्च बहूनां प्रेम शीतलं भ...</td>\n",
       "      <td>START_ and because iniquity shall abound the l...</td>\n",
       "    </tr>\n",
       "    <tr>\n",
       "      <th>3017</th>\n",
       "      <td>पुतुः समीपेऽहं युष्मान् अपवदिष्यामीति मा चिन्त...</td>\n",
       "      <td>START_ do not think that i will accuse you to ...</td>\n",
       "    </tr>\n",
       "    <tr>\n",
       "      <th>591</th>\n",
       "      <td>अपरं तव नेत्रं यदि त्वां बाधते तर्हि तदप्युत्प...</td>\n",
       "      <td>START_ and if thine eye offend thee pluck it o...</td>\n",
       "    </tr>\n",
       "    <tr>\n",
       "      <th>936</th>\n",
       "      <td>पश्चात् स कंसं गृह्लन् ईश्वरीयगुणाननूद्य तेभ्य...</td>\n",
       "      <td>START_ and he took the cup and gave thanks and...</td>\n",
       "    </tr>\n",
       "    <tr>\n",
       "      <th>1788</th>\n",
       "      <td>अथ बालकः शरीरेण बुद्ध्या च वर्द्धितुमारेभे अपर...</td>\n",
       "      <td>START_ and the child grew and waxed strong in ...</td>\n",
       "    </tr>\n",
       "    <tr>\n",
       "      <th>2345</th>\n",
       "      <td>तां तत्रोपस्थितां विलोक्य यीशुस्तामाहूय कथितवा...</td>\n",
       "      <td>START_ and when jesus saw her he called her to...</td>\n",
       "    </tr>\n",
       "  </tbody>\n",
       "</table>\n",
       "</div>"
      ],
      "text/plain": [
       "                                                    san                                                eng\n",
       "5045  किन्तूर्द्ध्वाद् आगतं यत् ज्ञानं तत् प्रथमं शु...  START_ but the wisdom that is from above is fi...\n",
       "2772  ततः स तृतीयवारं जगाद कुतः स किं कर्म्म कृतवान्...  START_ and he said unto them the third time wh...\n",
       "3655  अपरम् अष्टमेऽह्नि गते सति थोमासहितः शिष्यगण एक...  START_ and after eight days again his disciple...\n",
       "133   किन्त्वहं युष्मान् वदामि यूयं रिपुव्वपि प्रेम ...  START_ but i say unto you love your enemies bl...\n",
       "824   दुष्कर्म्मणां बाहुल्याञ्च बहूनां प्रेम शीतलं भ...  START_ and because iniquity shall abound the l...\n",
       "3017  पुतुः समीपेऽहं युष्मान् अपवदिष्यामीति मा चिन्त...  START_ do not think that i will accuse you to ...\n",
       "591   अपरं तव नेत्रं यदि त्वां बाधते तर्हि तदप्युत्प...  START_ and if thine eye offend thee pluck it o...\n",
       "936   पश्चात् स कंसं गृह्लन् ईश्वरीयगुणाननूद्य तेभ्य...  START_ and he took the cup and gave thanks and...\n",
       "1788  अथ बालकः शरीरेण बुद्ध्या च वर्द्धितुमारेभे अपर...  START_ and the child grew and waxed strong in ...\n",
       "2345  तां तत्रोपस्थितां विलोक्य यीशुस्तामाहूय कथितवा...  START_ and when jesus saw her he called her to..."
      ]
     },
     "execution_count": 10,
     "metadata": {
      "tags": []
     },
     "output_type": "execute_result"
    }
   ],
   "source": [
    "lines.sample(10)"
   ]
  },
  {
   "cell_type": "code",
   "execution_count": 0,
   "metadata": {
    "colab": {},
    "colab_type": "code",
    "id": "p8qGpbyhrlJP"
   },
   "outputs": [],
   "source": [
    "all_eng_words=set()\n",
    "for eng in lines.eng:\n",
    "    for word in eng.split():\n",
    "        if word not in all_eng_words:\n",
    "            all_eng_words.add(word)\n",
    "\n",
    "all_san_words=set()\n",
    "for san in lines.san:\n",
    "    for word in san.split():\n",
    "        if word not in all_san_words:\n",
    "            all_san_words.add(word)"
   ]
  },
  {
   "cell_type": "code",
   "execution_count": 0,
   "metadata": {
    "colab": {},
    "colab_type": "code",
    "id": "1GrsSUgsrlJS"
   },
   "outputs": [],
   "source": [
    "# Max Length of source sequence\n",
    "lenght_list=[]\n",
    "for l in lines.san:\n",
    "    lenght_list.append(len(l.split(' ')))\n",
    "max_length_src = np.max(lenght_list)\n",
    "\n",
    "mean_length_src=np.mean(lenght_list)"
   ]
  },
  {
   "cell_type": "code",
   "execution_count": 0,
   "metadata": {
    "colab": {},
    "colab_type": "code",
    "id": "L0AtzE2UrlJZ"
   },
   "outputs": [],
   "source": [
    "# Max Length of target sequence\n",
    "lenght_list=[]\n",
    "for l in lines.eng:\n",
    "    lenght_list.append(len(l.split(' ')))\n",
    "max_length_tar = np.max(lenght_list)\n",
    "\n",
    "mean_length_tar=np.mean(lenght_list)"
   ]
  },
  {
   "cell_type": "code",
   "execution_count": 14,
   "metadata": {
    "colab": {
     "base_uri": "https://localhost:8080/",
     "height": 35
    },
    "colab_type": "code",
    "executionInfo": {
     "elapsed": 1495,
     "status": "ok",
     "timestamp": 1566964963130,
     "user": {
      "displayName": "soheil dolat abadi",
      "photoUrl": "https://lh3.googleusercontent.com/a-/AAuE7mALJS8DLbLV2unGYvrAPXL1Ivffmtu-4cnx8PS38w=s64",
      "userId": "02077162147241112154"
     },
     "user_tz": -270
    },
    "id": "59ltNET9rlJe",
    "outputId": "cc99ba9c-bb1f-468c-8dd9-ed09cf4e7a03"
   },
   "outputs": [
    {
     "data": {
      "text/plain": [
       "(26012, 4850)"
      ]
     },
     "execution_count": 14,
     "metadata": {
      "tags": []
     },
     "output_type": "execute_result"
    }
   ],
   "source": [
    "target_words = sorted(list(all_eng_words))\n",
    "input_words = sorted(list(all_san_words))\n",
    "num_decoder_tokens = len(all_eng_words)\n",
    "num_encoder_tokens = len(all_san_words)\n",
    "num_encoder_tokens, num_decoder_tokens"
   ]
  },
  {
   "cell_type": "code",
   "execution_count": 0,
   "metadata": {
    "colab": {},
    "colab_type": "code",
    "id": "0PF18ZgvrlJh"
   },
   "outputs": [],
   "source": [
    "num_decoder_tokens += 1"
   ]
  },
  {
   "cell_type": "code",
   "execution_count": 0,
   "metadata": {
    "colab": {},
    "colab_type": "code",
    "id": "GmQEhsoKrlJk"
   },
   "outputs": [],
   "source": [
    "input_token_index = dict([(word, i+1) for i, word in enumerate(input_words)])\n",
    "target_token_index = dict([(word, i+1) for i, word in enumerate(target_words)])"
   ]
  },
  {
   "cell_type": "code",
   "execution_count": 0,
   "metadata": {
    "colab": {},
    "colab_type": "code",
    "id": "a_f1yUK0rlJn"
   },
   "outputs": [],
   "source": [
    "reverse_input_char_index = dict((i, word) for word, i in input_token_index.items())\n",
    "reverse_target_char_index = dict((i, word) for word, i in target_token_index.items())"
   ]
  },
  {
   "cell_type": "code",
   "execution_count": 18,
   "metadata": {
    "colab": {
     "base_uri": "https://localhost:8080/",
     "height": 355
    },
    "colab_type": "code",
    "executionInfo": {
     "elapsed": 1228,
     "status": "ok",
     "timestamp": 1566964977930,
     "user": {
      "displayName": "soheil dolat abadi",
      "photoUrl": "https://lh3.googleusercontent.com/a-/AAuE7mALJS8DLbLV2unGYvrAPXL1Ivffmtu-4cnx8PS38w=s64",
      "userId": "02077162147241112154"
     },
     "user_tz": -270
    },
    "id": "6lY54SjOrlJq",
    "outputId": "c5c3e967-71d1-470f-d9f1-97dee6c39220"
   },
   "outputs": [
    {
     "data": {
      "text/html": [
       "<div>\n",
       "<style scoped>\n",
       "    .dataframe tbody tr th:only-of-type {\n",
       "        vertical-align: middle;\n",
       "    }\n",
       "\n",
       "    .dataframe tbody tr th {\n",
       "        vertical-align: top;\n",
       "    }\n",
       "\n",
       "    .dataframe thead th {\n",
       "        text-align: right;\n",
       "    }\n",
       "</style>\n",
       "<table border=\"1\" class=\"dataframe\">\n",
       "  <thead>\n",
       "    <tr style=\"text-align: right;\">\n",
       "      <th></th>\n",
       "      <th>san</th>\n",
       "      <th>eng</th>\n",
       "    </tr>\n",
       "  </thead>\n",
       "  <tbody>\n",
       "    <tr>\n",
       "      <th>4477</th>\n",
       "      <td>अनन्तरं पौलस्तेषाम् अर्द्धं सिदूकिलोका अर्द्धं...</td>\n",
       "      <td>START_ but when paul perceived that the one pa...</td>\n",
       "    </tr>\n",
       "    <tr>\n",
       "      <th>268</th>\n",
       "      <td>किन्तु फिरूशिनः कथयाञ्चक्रुः भूताधिपतिना स भूत...</td>\n",
       "      <td>START_ but the pharisees said he casteth out d...</td>\n",
       "    </tr>\n",
       "    <tr>\n",
       "      <th>1365</th>\n",
       "      <td>ततः स तान् गाढमादिशद् यूयं मम कथा कस्मैचिदपि म...</td>\n",
       "      <td>START_ and he charged them that they should te...</td>\n",
       "    </tr>\n",
       "    <tr>\n",
       "      <th>750</th>\n",
       "      <td>तस्मिन्नहनि सिदूकिनोऽर्थात् श्मशानात् नोत्थास्...</td>\n",
       "      <td>START_ the same day came to him the sadducees ...</td>\n",
       "    </tr>\n",
       "    <tr>\n",
       "      <th>4044</th>\n",
       "      <td>ततः प्रभो र्नाम्ना मज्जिता भवतेति तानाज्ञापयत्...</td>\n",
       "      <td>START_ and he commanded them to be baptized in...</td>\n",
       "    </tr>\n",
       "    <tr>\n",
       "      <th>2280</th>\n",
       "      <td>पञ्च चटकपक्षिणः किं द्वाभ्यां ताम्रखण्डाभ्यां ...</td>\n",
       "      <td>START_ are not five sparrows sold for two fart...</td>\n",
       "    </tr>\n",
       "    <tr>\n",
       "      <th>2943</th>\n",
       "      <td>तदा सा महिलावादीत् ख्रीष्टनाम्ना विख्यातोऽभिषि...</td>\n",
       "      <td>START_ the woman saith unto him i know that me...</td>\n",
       "    </tr>\n",
       "    <tr>\n",
       "      <th>2905</th>\n",
       "      <td>तदा शालम् नगरस्य समीपस्थायिनि ऐनन् ग्रामे बहुत...</td>\n",
       "      <td>START_ and john also was baptizing in aenon ne...</td>\n",
       "    </tr>\n",
       "    <tr>\n",
       "      <th>2446</th>\n",
       "      <td>अतएव अयथार्थेन धनेन यदि यूयमविश्वास्या जातास्त...</td>\n",
       "      <td>START_ if therefore ye have not been faithful ...</td>\n",
       "    </tr>\n",
       "    <tr>\n",
       "      <th>2146</th>\n",
       "      <td>अपरञ्च मूसा एलियश्चोभौ तेजस्विनौ दृष्टौ</td>\n",
       "      <td>START_ and behold there talked with him two me...</td>\n",
       "    </tr>\n",
       "  </tbody>\n",
       "</table>\n",
       "</div>"
      ],
      "text/plain": [
       "                                                    san                                                eng\n",
       "4477  अनन्तरं पौलस्तेषाम् अर्द्धं सिदूकिलोका अर्द्धं...  START_ but when paul perceived that the one pa...\n",
       "268   किन्तु फिरूशिनः कथयाञ्चक्रुः भूताधिपतिना स भूत...  START_ but the pharisees said he casteth out d...\n",
       "1365  ततः स तान् गाढमादिशद् यूयं मम कथा कस्मैचिदपि म...  START_ and he charged them that they should te...\n",
       "750   तस्मिन्नहनि सिदूकिनोऽर्थात् श्मशानात् नोत्थास्...  START_ the same day came to him the sadducees ...\n",
       "4044  ततः प्रभो र्नाम्ना मज्जिता भवतेति तानाज्ञापयत्...  START_ and he commanded them to be baptized in...\n",
       "2280  पञ्च चटकपक्षिणः किं द्वाभ्यां ताम्रखण्डाभ्यां ...  START_ are not five sparrows sold for two fart...\n",
       "2943  तदा सा महिलावादीत् ख्रीष्टनाम्ना विख्यातोऽभिषि...  START_ the woman saith unto him i know that me...\n",
       "2905  तदा शालम् नगरस्य समीपस्थायिनि ऐनन् ग्रामे बहुत...  START_ and john also was baptizing in aenon ne...\n",
       "2446  अतएव अयथार्थेन धनेन यदि यूयमविश्वास्या जातास्त...  START_ if therefore ye have not been faithful ...\n",
       "2146            अपरञ्च मूसा एलियश्चोभौ तेजस्विनौ दृष्टौ  START_ and behold there talked with him two me..."
      ]
     },
     "execution_count": 18,
     "metadata": {
      "tags": []
     },
     "output_type": "execute_result"
    }
   ],
   "source": [
    "lines = shuffle(lines)\n",
    "lines.head(10)"
   ]
  },
  {
   "cell_type": "code",
   "execution_count": 19,
   "metadata": {
    "colab": {
     "base_uri": "https://localhost:8080/",
     "height": 35
    },
    "colab_type": "code",
    "executionInfo": {
     "elapsed": 1469,
     "status": "ok",
     "timestamp": 1566964985155,
     "user": {
      "displayName": "soheil dolat abadi",
      "photoUrl": "https://lh3.googleusercontent.com/a-/AAuE7mALJS8DLbLV2unGYvrAPXL1Ivffmtu-4cnx8PS38w=s64",
      "userId": "02077162147241112154"
     },
     "user_tz": -270
    },
    "id": "QJdRoAUirlJt",
    "outputId": "6dea9617-21c7-478a-bb50-3398623fed58"
   },
   "outputs": [
    {
     "data": {
      "text/plain": [
       "((4943,), (550,))"
      ]
     },
     "execution_count": 19,
     "metadata": {
      "tags": []
     },
     "output_type": "execute_result"
    }
   ],
   "source": [
    "# Train - Test Split\n",
    "X, y =  lines.san, lines.eng\n",
    "X_train, X_test, y_train, y_test = train_test_split(X, y, test_size = 0.1)\n",
    "X_train.shape, X_test.shape"
   ]
  },
  {
   "cell_type": "code",
   "execution_count": 0,
   "metadata": {
    "colab": {},
    "colab_type": "code",
    "id": "F_-S3yTerlJw"
   },
   "outputs": [],
   "source": [
    "### Save the train and test dataframes\n",
    "X_train.to_pickle('X_train.pkl')\n",
    "X_test.to_pickle('X_test.pkl')"
   ]
  },
  {
   "cell_type": "code",
   "execution_count": 0,
   "metadata": {
    "colab": {},
    "colab_type": "code",
    "id": "gzxIVRRqrlJ3"
   },
   "outputs": [],
   "source": [
    "def generate_batch(X = X_train, y = y_train, batch_size = 128):\n",
    "    ''' Generate a batch of data '''\n",
    "    while True:\n",
    "        for j in range(0, len(X), batch_size):\n",
    "            encoder_input_data = np.zeros((batch_size, max_length_src),dtype='float32')\n",
    "            decoder_input_data = np.zeros((batch_size, max_length_tar),dtype='float32')\n",
    "            decoder_target_data = np.zeros((batch_size, max_length_tar, num_decoder_tokens),dtype='float32')\n",
    "            for i, (input_text, target_text) in enumerate(zip(X[j:j+batch_size], y[j:j+batch_size])):\n",
    "                for t, word in enumerate(input_text.split()):\n",
    "                    encoder_input_data[i, t] = input_token_index[word] # encoder input seq\n",
    "                for t, word in enumerate(target_text.split()):\n",
    "                    if t<len(target_text.split())-1:\n",
    "                        decoder_input_data[i, t] = target_token_index[word] # decoder input seq\n",
    "                    if t>0:\n",
    "                        # decoder target sequence (one hot encoded)\n",
    "                        # does not include the START_ token\n",
    "                        # Offset by one timestep\n",
    "                        decoder_target_data[i, t - 1, target_token_index[word]] = 1.\n",
    "            yield([encoder_input_data, decoder_input_data], decoder_target_data)"
   ]
  },
  {
   "cell_type": "code",
   "execution_count": 0,
   "metadata": {
    "colab": {},
    "colab_type": "code",
    "id": "lkqbudVErlJ8"
   },
   "outputs": [],
   "source": [
    "latent_dim = 50"
   ]
  },
  {
   "cell_type": "code",
   "execution_count": 0,
   "metadata": {
    "colab": {},
    "colab_type": "code",
    "id": "yhjwQ4t4rlJ-"
   },
   "outputs": [],
   "source": [
    "# Encoder\n",
    "encoder_inputs = Input(shape=(None,))\n",
    "enc_emb =  Embedding(num_encoder_tokens, latent_dim, mask_zero = True)(encoder_inputs)\n",
    "encoder_lstm = LSTM(latent_dim, return_state=True)\n",
    "encoder_outputs, state_h, state_c = encoder_lstm(enc_emb)\n",
    "# We discard `encoder_outputs` and only keep the states.\n",
    "encoder_states = [state_h, state_c]"
   ]
  },
  {
   "cell_type": "code",
   "execution_count": 0,
   "metadata": {
    "colab": {},
    "colab_type": "code",
    "id": "ZZFuo4xmrlKA"
   },
   "outputs": [],
   "source": [
    "# Set up the decoder, using `encoder_states` as initial state.\n",
    "decoder_inputs = Input(shape=(None,))\n",
    "dec_emb_layer = Embedding(num_decoder_tokens, latent_dim, mask_zero = True)\n",
    "dec_emb = dec_emb_layer(decoder_inputs)\n",
    "# We set up our decoder to return full output sequences,\n",
    "# and to return internal states as well. We don't use the\n",
    "# return states in the training model, but we will use them in inference.\n",
    "decoder_lstm = LSTM(latent_dim, return_sequences=True, return_state=True)\n",
    "decoder_outputs, _, _ = decoder_lstm(dec_emb,\n",
    "                                     initial_state=encoder_states)\n",
    "decoder_dense = Dense(num_decoder_tokens, activation='softmax')\n",
    "decoder_outputs = decoder_dense(decoder_outputs)\n",
    "\n",
    "# Define the model that will turn\n",
    "# `encoder_input_data` & `decoder_input_data` into `decoder_target_data`\n",
    "model = Model([encoder_inputs, decoder_inputs], decoder_outputs)"
   ]
  },
  {
   "cell_type": "code",
   "execution_count": 0,
   "metadata": {
    "colab": {},
    "colab_type": "code",
    "id": "keylG-corlKE"
   },
   "outputs": [],
   "source": [
    "model.compile(optimizer='rmsprop', loss='categorical_crossentropy', metrics=['acc'])"
   ]
  },
  {
   "cell_type": "code",
   "execution_count": 0,
   "metadata": {
    "colab": {},
    "colab_type": "code",
    "id": "VbA6ewqUrlKS"
   },
   "outputs": [],
   "source": [
    "train_samples = len(X_train)\n",
    "val_samples = len(X_test)\n",
    "batch_size = 128\n",
    "epochs = 400"
   ]
  },
  {
   "cell_type": "code",
   "execution_count": 29,
   "metadata": {
    "colab": {
     "base_uri": "https://localhost:8080/",
     "height": 263
    },
    "colab_type": "code",
    "executionInfo": {
     "elapsed": 94381,
     "status": "ok",
     "timestamp": 1566965134111,
     "user": {
      "displayName": "soheil dolat abadi",
      "photoUrl": "https://lh3.googleusercontent.com/a-/AAuE7mALJS8DLbLV2unGYvrAPXL1Ivffmtu-4cnx8PS38w=s64",
      "userId": "02077162147241112154"
     },
     "user_tz": -270
    },
    "id": "z14zp1scrlKU",
    "outputId": "15bd6cd8-6ee2-4ad0-9d1c-b22541dac0d0"
   },
   "outputs": [
    {
     "name": "stderr",
     "output_type": "stream",
     "text": [
      "W0828 04:04:02.009008 140533189293952 deprecation_wrapper.py:119] From /usr/local/lib/python3.6/dist-packages/keras/backend/tensorflow_backend.py:986: The name tf.assign_add is deprecated. Please use tf.compat.v1.assign_add instead.\n",
      "\n"
     ]
    },
    {
     "name": "stdout",
     "output_type": "stream",
     "text": [
      "Epoch 1/5\n",
      "38/38 [==============================] - 23s 602ms/step - loss: 6.4814 - acc: 0.0611 - val_loss: 5.8606 - val_acc: 0.0632\n",
      "Epoch 2/5\n",
      "38/38 [==============================] - 17s 452ms/step - loss: 5.8277 - acc: 0.0667 - val_loss: 5.8502 - val_acc: 0.0738\n",
      "Epoch 3/5\n",
      "38/38 [==============================] - 17s 449ms/step - loss: 5.7866 - acc: 0.0802 - val_loss: 5.7996 - val_acc: 0.0901\n",
      "Epoch 4/5\n",
      "38/38 [==============================] - 17s 454ms/step - loss: 5.7030 - acc: 0.0888 - val_loss: 5.7383 - val_acc: 0.0878\n",
      "Epoch 5/5\n",
      "38/38 [==============================] - 17s 447ms/step - loss: 5.6246 - acc: 0.0943 - val_loss: 5.6928 - val_acc: 0.0926\n"
     ]
    },
    {
     "data": {
      "text/plain": [
       "<keras.callbacks.History at 0x7fd007fb8ef0>"
      ]
     },
     "execution_count": 29,
     "metadata": {
      "tags": []
     },
     "output_type": "execute_result"
    }
   ],
   "source": [
    "model.fit_generator(generator = generate_batch(X_train, y_train, batch_size = batch_size),\n",
    "                    steps_per_epoch = train_samples//batch_size,\n",
    "                    epochs=epochs,\n",
    "                    validation_data = generate_batch(X_test, y_test, batch_size = batch_size),\n",
    "                    validation_steps = val_samples//batch_size)"
   ]
  },
  {
   "cell_type": "code",
   "execution_count": 0,
   "metadata": {
    "colab": {},
    "colab_type": "code",
    "id": "iPm055gHavF-"
   },
   "outputs": [],
   "source": [
    "### saving model\n",
    "model.save_weights('nmt_weights2.h5')"
   ]
  },
  {
   "cell_type": "code",
   "execution_count": 43,
   "metadata": {
    "colab": {
     "base_uri": "https://localhost:8080/",
     "height": 218
    },
    "colab_type": "code",
    "executionInfo": {
     "elapsed": 1574,
     "status": "error",
     "timestamp": 1566965500620,
     "user": {
      "displayName": "soheil dolat abadi",
      "photoUrl": "https://lh3.googleusercontent.com/a-/AAuE7mALJS8DLbLV2unGYvrAPXL1Ivffmtu-4cnx8PS38w=s64",
      "userId": "02077162147241112154"
     },
     "user_tz": -270
    },
    "id": "lDLl9Zk5WjHd",
    "outputId": "5f4be8d2-3f01-4e69-82c3-7b7590637fb1"
   },
   "outputs": [
    {
     "ename": "AttributeError",
     "evalue": "ignored",
     "output_type": "error",
     "traceback": [
      "\u001b[0;31m---------------------------------------------------------------------------\u001b[0m",
      "\u001b[0;31mAttributeError\u001b[0m                            Traceback (most recent call last)",
      "\u001b[0;32m<ipython-input-43-0ae2065039f7>\u001b[0m in \u001b[0;36m<module>\u001b[0;34m()\u001b[0m\n\u001b[0;32m----> 1\u001b[0;31m \u001b[0mplt\u001b[0m\u001b[0;34m.\u001b[0m\u001b[0mplot\u001b[0m\u001b[0;34m(\u001b[0m\u001b[0mrange\u001b[0m\u001b[0;34m(\u001b[0m\u001b[0mlen\u001b[0m\u001b[0;34m(\u001b[0m\u001b[0mmodel\u001b[0m\u001b[0;34m.\u001b[0m\u001b[0mhistory\u001b[0m\u001b[0;34m.\u001b[0m\u001b[0mhistory\u001b[0m\u001b[0;34m[\u001b[0m\u001b[0;34m'val_loss'\u001b[0m\u001b[0;34m]\u001b[0m\u001b[0;34m)\u001b[0m\u001b[0;34m)\u001b[0m\u001b[0;34m,\u001b[0m\u001b[0mmodel\u001b[0m\u001b[0;34m.\u001b[0m\u001b[0mhistory\u001b[0m\u001b[0;34m.\u001b[0m\u001b[0mhistory\u001b[0m\u001b[0;34m[\u001b[0m\u001b[0;34m'loss'\u001b[0m\u001b[0;34m]\u001b[0m\u001b[0;34m)\u001b[0m\u001b[0;34m\u001b[0m\u001b[0;34m\u001b[0m\u001b[0m\n\u001b[0m\u001b[1;32m      2\u001b[0m \u001b[0mplt\u001b[0m\u001b[0;34m.\u001b[0m\u001b[0mxlabel\u001b[0m\u001b[0;34m(\u001b[0m\u001b[0;34m\"epochs\"\u001b[0m\u001b[0;34m)\u001b[0m\u001b[0;34m\u001b[0m\u001b[0;34m\u001b[0m\u001b[0m\n\u001b[1;32m      3\u001b[0m \u001b[0mplt\u001b[0m\u001b[0;34m.\u001b[0m\u001b[0mylabel\u001b[0m\u001b[0;34m(\u001b[0m\u001b[0;34m\"loss\"\u001b[0m\u001b[0;34m)\u001b[0m\u001b[0;34m\u001b[0m\u001b[0;34m\u001b[0m\u001b[0m\n\u001b[1;32m      4\u001b[0m \u001b[0mplt\u001b[0m\u001b[0;34m.\u001b[0m\u001b[0mshow\u001b[0m\u001b[0;34m(\u001b[0m\u001b[0;34m)\u001b[0m\u001b[0;34m\u001b[0m\u001b[0;34m\u001b[0m\u001b[0m\n",
      "\u001b[0;31mAttributeError\u001b[0m: 'Model' object has no attribute 'history'"
     ]
    }
   ],
   "source": [
    "### Ploting epoch vs loss\n",
    "plt.plot(range(len(model.history.history['val_loss'])),model.history.history['loss'])\n",
    "plt.xlabel(\"epochs\")\n",
    "plt.ylabel(\"loss\")\n",
    "plt.show()"
   ]
  },
  {
   "cell_type": "code",
   "execution_count": 0,
   "metadata": {
    "colab": {
     "base_uri": "https://localhost:8080/",
     "height": 283
    },
    "colab_type": "code",
    "executionInfo": {
     "elapsed": 2475,
     "status": "ok",
     "timestamp": 1566946937540,
     "user": {
      "displayName": "soheil dolat abadi",
      "photoUrl": "https://lh3.googleusercontent.com/a-/AAuE7mALJS8DLbLV2unGYvrAPXL1Ivffmtu-4cnx8PS38w=s64",
      "userId": "02077162147241112154"
     },
     "user_tz": -270
    },
    "id": "sC8nbUUdWjnU",
    "outputId": "84388b81-ba44-4ec6-9ec4-632e75bf00c8"
   },
   "outputs": [
    {
     "data": {
      "image/png": "[encoded data removed]",
      "text/plain": [
       "<Figure size 432x288 with 1 Axes>"
      ]
     },
     "metadata": {
      "tags": []
     },
     "output_type": "display_data"
    }
   ],
   "source": [
    "### Ploting epoch vs accuracy\n",
    "plt.plot(range(len(model.history.history['acc'])),model.history.history['acc'])\n",
    "plt.xlabel(\"epochs\")\n",
    "plt.ylabel(\"accuracy\")\n",
    "plt.show()"
   ]
  },
  {
   "cell_type": "code",
   "execution_count": 1,
   "metadata": {
    "colab": {},
    "colab_type": "code",
    "id": "6xHVFdGRrlKk"
   },
   "outputs": [
    {
     "ename": "NameError",
     "evalue": "name 'model' is not defined",
     "output_type": "error",
     "traceback": [
      "\u001b[0;31m---------------------------------------------------------------------------\u001b[0m",
      "\u001b[0;31mNameError\u001b[0m                                 Traceback (most recent call last)",
      "\u001b[0;32m<ipython-input-1-365e1d3634ad>\u001b[0m in \u001b[0;36m<module>\u001b[0;34m\u001b[0m\n\u001b[0;32m----> 1\u001b[0;31m \u001b[0mmodel\u001b[0m\u001b[0;34m.\u001b[0m\u001b[0mload_weights\u001b[0m\u001b[0;34m(\u001b[0m\u001b[0;34m'nmt_weights1 (2).h5'\u001b[0m\u001b[0;34m)\u001b[0m\u001b[0;34m\u001b[0m\u001b[0;34m\u001b[0m\u001b[0m\n\u001b[0m",
      "\u001b[0;31mNameError\u001b[0m: name 'model' is not defined"
     ]
    }
   ],
   "source": [
    "model.load_weights('nmt_weights1.h5')"
   ]
  },
  {
   "cell_type": "markdown",
   "metadata": {
    "colab_type": "text",
    "id": "iqmYe3WHrlKn"
   },
   "source": [
    "Inference Setup"
   ]
  },
  {
   "cell_type": "code",
   "execution_count": 0,
   "metadata": {
    "colab": {},
    "colab_type": "code",
    "id": "P74csAHurlKo"
   },
   "outputs": [],
   "source": [
    "# Encode the input sequence to get the \"thought vectors\"\n",
    "encoder_model = Model(encoder_inputs, encoder_states)\n",
    "\n",
    "# Decoder setup\n",
    "# Below tensors will hold the states of the previous time step\n",
    "decoder_state_input_h = Input(shape=(latent_dim,))\n",
    "decoder_state_input_c = Input(shape=(latent_dim,))\n",
    "decoder_states_inputs = [decoder_state_input_h, decoder_state_input_c]\n",
    "\n",
    "dec_emb2= dec_emb_layer(decoder_inputs) # Get the embeddings of the decoder sequence\n",
    "\n",
    "# To predict the next word in the sequence, set the initial states to the states from the previous time step\n",
    "decoder_outputs2, state_h2, state_c2 = decoder_lstm(dec_emb2, initial_state=decoder_states_inputs)\n",
    "decoder_states2 = [state_h2, state_c2]\n",
    "decoder_outputs2 = decoder_dense(decoder_outputs2) # A dense softmax layer to generate prob dist. over the target vocabulary\n",
    "\n",
    "# Final decoder model\n",
    "decoder_model = Model(\n",
    "    [decoder_inputs] + decoder_states_inputs,\n",
    "    [decoder_outputs2] + decoder_states2)"
   ]
  },
  {
   "cell_type": "markdown",
   "metadata": {
    "colab_type": "text",
    "id": "C6FG56AKrlKv"
   },
   "source": [
    "Decode sample sequeces"
   ]
  },
  {
   "cell_type": "code",
   "execution_count": 0,
   "metadata": {
    "colab": {},
    "colab_type": "code",
    "id": "hEMJMRpNrlKw"
   },
   "outputs": [],
   "source": [
    "def decode_sequence(input_seq,lenn):\n",
    "    # Encode the input as state vectors.\n",
    "    states_value = encoder_model.predict(input_seq)\n",
    "    # Generate empty target sequence of length 1.\n",
    "    target_seq = np.zeros((1,1))\n",
    "    # Populate the first character of target sequence with the start character.\n",
    "    target_seq[0, 0] = target_token_index['START_']\n",
    "\n",
    "    # Sampling loop for a batch of sequences\n",
    "    # (to simplify, here we assume a batch of size 1).\n",
    "    stop_condition = False\n",
    "    decoded_sentence = ''\n",
    "    while not stop_condition:\n",
    "        output_tokens, h, c = decoder_model.predict([target_seq] + states_value)\n",
    "\n",
    "        # Sample a token\n",
    "        sampled_token_index = np.argmax(output_tokens[0, -1, :])\n",
    "        sampled_char = reverse_target_char_index[sampled_token_index]\n",
    "        decoded_sentence += ' '+sampled_char\n",
    "\n",
    "        # Exit condition: either hit max length\n",
    "        # or find stop character.\n",
    "        if (sampled_char == '_END' or\n",
    "           len(decoded_sentence) > lenn*(mean_length_tar/mean_length_src)):\n",
    "            stop_condition = True\n",
    "\n",
    "        # Update the target sequence (of length 1).\n",
    "        target_seq = np.zeros((1,1))\n",
    "        target_seq[0, 0] = sampled_token_index\n",
    "\n",
    "        # Update states\n",
    "        states_value = [h, c]\n",
    "\n",
    "    return decoded_sentence"
   ]
  },
  {
   "cell_type": "markdown",
   "metadata": {
    "colab_type": "text",
    "id": "reymDyptrlON"
   },
   "source": [
    "Evaluating the Dataset"
   ]
  },
  {
   "cell_type": "code",
   "execution_count": 0,
   "metadata": {
    "colab": {},
    "colab_type": "code",
    "id": "itzT7cOPrlOQ"
   },
   "outputs": [],
   "source": [
    "val_gen = generate_batch(X_test, y_test, batch_size = 1)\n",
    "k=-1\n",
    "res_out=np.array([['the sentence in engish','the sanskrit sentence','predicted translation']])\n",
    "\n",
    "for k in range(1,100):\n",
    "\n",
    "  (input_seq, actual_output), _ = next(val_gen)\n",
    "  decoded_sentence = decode_sequence(input_seq,len(X_test[k-1:k].values[0])) \n",
    "  res_out=np.append(res_out,np.array([[y_test[k-1:k].values[0][7:-5],X_test[k-1:k].values[0],decoded_sentence[1:-5]]]),axis=0)\n"
   ]
  },
  {
   "cell_type": "code",
   "execution_count": 0,
   "metadata": {
    "colab": {},
    "colab_type": "code",
    "id": "YBIlyweF6COL"
   },
   "outputs": [],
   "source": [
    "df=pd.DataFrame(res_out)\n",
    "df.to_excel('res5.xlsx', encoding='utf16')\n"
   ]
  },
  {
   "cell_type": "code",
   "execution_count": 62,
   "metadata": {
    "colab": {
     "base_uri": "https://localhost:8080/",
     "height": 1000
    },
    "colab_type": "code",
    "executionInfo": {
     "elapsed": 1744,
     "status": "ok",
     "timestamp": 1566966989458,
     "user": {
      "displayName": "soheil dolat abadi",
      "photoUrl": "https://lh3.googleusercontent.com/a-/AAuE7mALJS8DLbLV2unGYvrAPXL1Ivffmtu-4cnx8PS38w=s64",
      "userId": "02077162147241112154"
     },
     "user_tz": -270
    },
    "id": "DLEnsclabjew",
    "outputId": "b92bb5bf-6330-4b8d-fc43-1a7476ba740a"
   },
   "outputs": [
    {
     "data": {
      "text/plain": [
       "array([['the sentence in engish', 'the sanskrit sentence',\n",
       "        'predicted translation'],\n",
       "       ['but martha was cumbered about much serving and came to him and said lord dost thou not care that my sister hath left me to serve alone bid her therefore that she help me',\n",
       "        'किन्तु मर्था नानापरिचर्य्यायां व्यग्रा बभूव तस्माद्धेतोस्तस्य समीपमागत्य बभाषे हे प्रभो मम भगिनी केवलं ममोपरि सर्व्वकर्म्मणां भारम् अर्पितवती तत्र भवता किञ्चिदपि न मनो निधीयते किम् मम साहाय्यं कर्त्तुं भवान् तामादिशतु।',\n",
       "        'and they cried out saying master why callest thou me my brother is my mother and i say unto you but ye know not what shall ye know that i am the son of david'],\n",
       "       ['beloved if god so loved us we ought also to love one another',\n",
       "        'हे प्रियतमाः अस्मासु यदीश्वरेणैतादृशं प्रेम कृतं तर्हि परस्परं प्रेम कर्त्तुम् अस्माकमप्युचितं।',\n",
       "        'beloved if god so loved us we ought to be reserved unto you and to remember the word of god'],\n",
       "       ['when jesus had spoken these words he went forth with his disciples over the brook cedron where was a garden into the which he entered and his disciples',\n",
       "        'ताः कथाः कथयित्वा यीशुः शिष्यानादाय किद्रोन्नामकं स्रोत उत्तीर्य्य शिष्यैः सह तत्रत्योद्यानं प्राविशत्।',\n",
       "        'when he heard these things were come he that sat on his disciples go into the sea and they presented unto them about the sea side and there were about him and they went up'],\n",
       "       ['and when paul s sister s son heard of their lying in wait he went and entered into the castle and told paul',\n",
       "        'तदा पौलस्य भागिनेयस्तेषामिति मन्त्रणां विज्ञाय दुर्गं गत्वा तां वार्त्तां पौलम् उक्तवान्।',\n",
       "        'and when the lord saw that he was a great company and twenty elders and it was cleansed saving naaman the syrian'],\n",
       "       ['it is neither fit for the land nor yet for the dunghill but men cast it out he that hath ears to hear let him hear',\n",
       "        'तद भूम्यर्थम् आलवालराश्यर्थमपि भद्रं न भवति लोकास्तद् बहिः क्षिपन्ति।यस्य श्रोतुं श्रोत्रे स्तः स शृणोतु।',\n",
       "        'it is on the law and in the beginning shall remain that i came into the temple and they should not see the son of man'],\n",
       "       ['he saved others himself he cannot save if he be the king of israel let him now come down from the cross and we will believe him',\n",
       "        'सोऽन्यजनानावत् किन्तु स्वमवितुं न शक्नोति। यदीस्रायेलो राजा भवेत् तर्हीदानीमेव क्रुशादवरोहतु तेन तं वयं प्रत्येष्यामः।',\n",
       "        'he said to pass when he was entered into the temple of the lord jesus will and they have found him and he that believeth on me in the dead'],\n",
       "       ['for even hereunto were ye called because christ also suffered for us leaving us an example that ye should follow his steps',\n",
       "        'तदर्थमेव यूयम् आहूता यतः ख्रीष्टोऽपि युष्मन्निमित्तं दुःखं भुक्त्वा यूयं यत् तस्य पदचिह्नै र्व्रजेत तदर्थं दृष्टान्तमेकं दर्शितवान्।',\n",
       "        'for even hereunto were not better for side for to retain their garments in the temple and was done unto the sea'],\n",
       "       ['simon peter a servant and an apostle of jesus christ to them that have obtained like precious faith with us through the righteousness of god and our saviour jesus christ',\n",
       "        'ये जना अस्माभिः सार्द्धम् अस्तदीश्वरे त्रातरि यीशुख्रीष्टे च पुण्यसम्बलितविश्वासधनस्य समानांशित्वं प्राप्तास्तान् प्रति यीशुख्रीष्टस्य दासः प्रेरितश्च शिमोन् पितरः पत्रं लिखति।',\n",
       "        'so peter a certain of john and a man answered and of jesus was come but because ye shall be the first day and said unto the lord jesus christ is not'],\n",
       "       ['now bethany was nigh unto jerusalem about fifteen furlongs off',\n",
       "        'वैथनीया यिरूशालमः समीपस्था क्रोशैकमात्रान्तरिता',\n",
       "        'now bethany they had spent the law and with his head and went down in him and they went out of him'],\n",
       "       ['art not thou that egyptian which before these days madest an uproar and leddest out into the wilderness four thousand men that were murderers',\n",
       "        'यो मिसरीयो जनः पूर्व्वं विरोधं कृत्वा चत्वारि सहस्राणि घातकान् सङ्गिनः कृत्वा विपिनं गतवान् त्वं किं सएव न भवसि',\n",
       "        'art not that egyptian which thou gavest me not and he will not the world but he that believeth on me he said unto you'],\n",
       "       ['peter saith unto him of strangers jesus saith unto him then are the children free',\n",
       "        'तदा यीशुरुक्तवान् तर्हि सन्ताना मुक्ताः सन्ति।',\n",
       "        'peter saith unto him lord thou shalt not be sick'],\n",
       "       ['and when they had kindled a fire in the midst of the hall and were set down together peter sat down among them',\n",
       "        'बृहत्कोष्ठस्य मध्ये यत्राग्निं ज्वालयित्वा लोकाः समेत्योपविष्टास्तत्र तैः सार्द्धम् उपविवेश।',\n",
       "        'and when they had been the third clothes saying saying have her planted he purposed to his hand to him and were delivered'],\n",
       "       ['that it might be fulfilled which was spoken by esaias the prophet saying',\n",
       "        'तस्मात् मम प्रीयो मनोनीतो मनसस्तुष्टिकारकः। मदीयः सेवको यस्तु विद्यते तं समीक्षतां। तस्योपरि स्वकीयात्मा मया संस्थापयिष्यते। तेनान्यदेशजातेषु व्यवस्था संप्रकाश्यते।',\n",
       "        'that it might be fulfilled which was spoken by the lord had done for he is not lawful for him and they should not see their own hus'],\n",
       "       ['and they troubled the people and the rulers of the city when they heard these things',\n",
       "        'तेषां कथामिमां श्रुत्वा लोकनिवहो नगराधिपतयश्च समुद्विग्ना अभवन्।',\n",
       "        'and they come and the high priest and the gospel was to cast him'],\n",
       "       ['but i will forewarn you whom ye shall fear fear him which after he hath killed hath power to cast into hell yea i say unto you fear him',\n",
       "        'तर्हि कस्माद् भेतव्यम् इत्यहं वदामि यः शरीरं नाशयित्वा नरकं निक्षेप्तुं शक्नोति तस्मादेव भयं कुरुत पुनरपि वदामि तस्मादेव भयं कुरुत।',\n",
       "        'but i will forewarn you he that in jerusalem in the temple that he went out of the temple and they were with him that when he was come into the temple'],\n",
       "       ['and the apostles and brethren that were in judaea heard that the gentiles had also received the word of god',\n",
       "        'इत्थं भिन्नदेशीयलोका अपीश्वरस्य वाक्यम् अगृह्लन् इमां वार्त्तां यिहूदीयदेशस्थप्रेरिता भ्रातृगणश्च श्रुतवन्तः।',\n",
       "        'and the angel of jesus christ and the last state of the world'],\n",
       "       ['and one ran and filled a spunge full of vinegar and put it on a reed and gave him to drink saying let alone let us see whether elias will come to take him down',\n",
       "        'तत एको जनो धावित्वागत्य स्पञ्जे ऽम्लरसं पूरयित्वा तं नडाग्रे निधाय पातुं तस्मै दत्त्वावदत् तिष्ठ एलिय एनमवरोहयितुम् एति न वेति पश्यामि।',\n",
       "        'and jesus went into a mountain and besought him and he said unto him why baptizest thou art mad why persecutest thou me therefore thou shalt not be here in the temple and i will come to take him away'],\n",
       "       ['and needed not that any should testify of man for he knew what was in man',\n",
       "        'स मानवेषु कस्यचित् प्रमाणं नापेक्षत यतो मनुजानां मध्ये यद्यदस्ति तत्तत् सोजानात्।',\n",
       "        'and he that they have not in the temple and in the temple and they were come into the sea and gathered the throne'],\n",
       "       ['the men of nineveh shall rise in judgment with this generation and shall condemn it because they repented at the preaching of jonas and behold a greater than jonas is here',\n",
       "        'अपरं नीनिवीया मानवा विचारदिन एतद्वंशीयानां प्रतिकूलम् उत्थाय तान् दोषिणः करिष्यन्ति यस्मात्ते यूनस उपदेशात् मनांसि परावर्त्तयाञ्चक्रिरे किन्त्वत्र यूनसोपि गुरुतर एक आस्ते।',\n",
       "        'the which of the stars of heaven the earth and the harlot rahab upon the pit the beginning was darkened and the sea and the four winds and poured it when jesus had made an hundredfold a den of ointment'],\n",
       "       ['and i saw another mighty angel come down from heaven clothed with a cloud and a rainbow was upon his head and his face was as it were the sun and his feet as pillars of fire',\n",
       "        'अनन्तरं स्वर्गाद् अवरोहन् अपर एको महाबलो दूतो मया दृष्टः स परिहितमेघस्तस्य शिरश्च मेघधनुषा भूषितं मुखमण्डलञ्च सूर्य्यतुल्यं चरणौ च वह्निस्तम्भसमौ।',\n",
       "        'and jesus said unto them unto them verily verily thou art bidden if ye have a good report and widows say to do ye not much things which are sanctified'],\n",
       "       ['for as jonas was three days and three nights in the whale s belly so shall the son of man be three days and three nights in the heart of the earth',\n",
       "        'यतो यूनम् यथा त्र्यहोरात्रं बृहन्मीनस्य कुक्षावासीत् तथा मनुजपुत्रोपि त्र्यहोरात्रं मेदिन्या मध्ये स्थास्यति।',\n",
       "        'for as they heard of themselves behold there was a certain man returned about a mountain and they saw the way side and the people'],\n",
       "       ['for if we sin wilfully after that we have received the knowledge of the truth there remaineth no more sacrifice for sins',\n",
       "        'सत्यमतस्य ज्ञानप्राप्तेः परं यदि वयं स्वंच्छया पापाचारं कुर्म्मस्तर्हि पापानां कृते ऽन्यत् किमपि बलिदानं नावशिष्यते',\n",
       "        'for if ye say these things we ought to be the law of you that whosoever shall be born in the wilderness to pray them that they shall be done'],\n",
       "       ['ye fools and blind for whether is greater the gift or the altar that sanctifieth the gift',\n",
       "        'हे मूढा हे अन्धाः नैवेद्यं तन्नैवेद्यपावकवेदिरेतयोरुभयो र्मध्ये किं श्रेयः',\n",
       "        'ye fools and blind for whether is the son is good and fiery esau who is first and the earth'],\n",
       "       ['and sent his servant at supper time to say to them that were bidden come for all things are now ready',\n",
       "        'ततो भोजनसमये निमन्त्रितलोकान् आह्वातुं दासद्वारा कथयामास खद्यद्रव्याणि सर्व्वाणि समासादितानि सन्ति यूयमागच्छत।',\n",
       "        'and in the stars of the temple there was a preparing which stood and when he was come together and he had touched thy way'],\n",
       "       ['and he said unto them why are ye so fearful how is it that ye have no faith',\n",
       "        'तदा स तानुवाच यूयं कुत एतादृक्शङ्काकुला भवत किं वो विश्वासो नास्ति',\n",
       "        'and he said unto them why reason ye shall not my mother and my father s sake'],\n",
       "       ['so jesus had compassion on them and touched their eyes and immediately their eyes received sight and they followed him',\n",
       "        'तदानीं यीशुस्तौ प्रति प्रमन्नः सन् तयो र्नेत्राणि पस्पर्श तेनैव तौ सुवीक्षाञ्चक्राते तत्पश्चात् जग्मुतुश्च।',\n",
       "        'so jesus had compassion on him and said unto him thou art thou shalt thou hast given me'],\n",
       "       ['and ye have respect to him that weareth the gay clothing and say unto him sit thou here in a good place and say to the poor stand thou there or sit here under my footstool',\n",
       "        'यूयं यदि तं भ्राजिष्णुपरिच्छदवसानं जनं निरीक्ष्य वदेत भवान् अत्रोत्तमस्थान उपविशत्विति किञ्च तं दरिद्रं यदि वदेत त्वम् अमुस्मिन् स्थाने तिष्ठ यद्वात्र मम पादपीठ उपविशेति',\n",
       "        'and said unto him one of thy brethren and said unto him why callest thou me my brother is i and i have gained five loaves and they that overcometh and said unto him thou art thou clean'],\n",
       "       ['for herod feared john knowing that he was a just man and an holy and observed him and when he heard him he did many things and heard him gladly',\n",
       "        'यस्माद् हेरोद् तं धार्म्मिकं सत्पुरुषञ्च ज्ञात्वा सम्मन्य रक्षितवान् तत्कथां श्रुत्वा तदनुसारेण बहूनि कर्म्माणि कृतवान् हृष्टमनास्तदुपदेशं श्रुतवांश्च।',\n",
       "        'for herod these things took after and saw it and a certain man named ananias saying and said him and said unto him thou art thou clean'],\n",
       "       ['and it came to pass that as they went in the way a certain man said unto him lord i will follow thee whithersoever thou goest',\n",
       "        'तदनन्तरं पथि गमनकाले जन एकस्तं बभाषे हे प्रभो भवान् यत्र याति भवता सहाहमपि तत्र यास्यामि।',\n",
       "        'and it came to pass that as they went out of the synagogue of the synagogue and entered into the synagogue and they went up into the temple and they that were born of the jews'],\n",
       "       ['and when they had platted a crown of thorns they put it upon his head and a reed in his right hand and they bowed the knee before him and mocked him saying hail king of the jews',\n",
       "        'कण्टकानां मुकुटं निर्म्माय तच्छिरसि ददुः तस्य दक्षिणकरे वेत्रमेकं दत्त्वा तस्य सम्मुखे जानूनि पातयित्वा हे यिहूदीयानां राजन् तुभ्यं नम इत्युक्त्वा तं तिरश्चक्रुः',\n",
       "        'and when they had gone over her jacob in the temple he that holdeth the seven thunders uttered their heads and were about to go unto him and they went forth'],\n",
       "       ['then from that day forth they took counsel together for to put him to death',\n",
       "        'तद्दिनमारभ्य ते कथं तं हन्तुं शक्नुवन्तीति मन्त्रणां कर्त्तुं प्रारेभिरे।',\n",
       "        'then to that the jews sought to do they and found it'],\n",
       "       ['and when he was full forty years old it came into his heart to visit his brethren the children of israel',\n",
       "        'स सम्पूर्णचत्वारिंशद्वत्सरवयस्को भूत्वा इस्रायेलीयवंशनिजभ्रातृन् साक्षात् कर्तुं मतिं चक्रे।',\n",
       "        'and the child of the city crying out of the city of the lord jesus was nigh'],\n",
       "       ['then peter began to say unto him lo we have left all and have followed thee',\n",
       "        'तदा पितर उवाच पश्य वयं सर्व्वं परित्यज्य भवतोनुगामिनो जाताः।',\n",
       "        'then peter went into a mountain and he said unto him lord thou shalt not be sick'],\n",
       "       ['and they said unto him where wilt thou that we prepare',\n",
       "        'तदा तौ पप्रच्छतुः कुचासादयावो भवतः केच्छा',\n",
       "        'and they said unto him go thou that they marvelled and'],\n",
       "       ['and certain of them that stood there said unto them what do ye loosing the colt',\n",
       "        'एतर्हि तत्रोपस्थितलोकानां कश्चिद् अपृच्छत् गर्द्दभशिशुं कुतो मोचयथः',\n",
       "        'and certain of them that stood by the temple and saith unto him lord is my son'],\n",
       "       ['his lord said unto him well done thou good and faithful servant thou hast been faithful over a few things i will make thee ruler over many things enter thou into the joy of thy lord',\n",
       "        'तदानीं तस्य प्रभुस्तमुवाच हे उत्तम विश्वास्य दास त्वं धन्योसि स्तोकेन विश्वास्यो जातः तस्मात् त्वां बहुवित्ताधिपं करोमि त्वं स्वप्रभोः सुखस्य भागी भव।',\n",
       "        'the lord had not true witness unto thee and to him that he hath given me to do that he said unto him thou art thou clean'],\n",
       "       ['and all went to be taxed every one into his own city',\n",
       "        'अतो हेतो र्नाम लेखितुं सर्व्वे जनाः स्वीयं स्वीयं नगरं जग्मुः।',\n",
       "        'and all received sight to meet and they were sick and the other side'],\n",
       "       ['they say unto him he will miserably destroy those wicked men and will let out his vineyard unto other husbandmen which shall render him the fruits in their seasons',\n",
       "        'ततस्ते प्रत्यवदन् तान् कलुषिणो दारुणयातनाभिराहनिष्यति ये च समयानुक्रमात् फलानि दास्यन्ति तादृशेषु कृषीवलेषु क्षेत्रं समर्पयिष्यति।',\n",
       "        'they say unto him he will miserably destroy him that he will miserably destroy thee that he was'],\n",
       "       ['but there are some of you that believe not for jesus knew from the beginning who they were that believed not and who should betray him',\n",
       "        'किन्तु युष्माकं मध्ये केचन अविश्वासिनः सन्ति के के न विश्वसन्ति को वा तं परकरेषु समर्पयिष्यति तान् यीशुराप्रथमाद् वेत्ति।',\n",
       "        'but i say unto you in a good works that they have seen them they that dwelt in the wilderness to the jews'],\n",
       "       ['these words spake jesus and lifted up his eyes to heaven and said father the hour is come glorify thy son that thy son also may glorify thee',\n",
       "        'ततः परं यीशुरेताः कथाः कथयित्वा स्वर्गं विलोक्यैतत् प्रार्थयत् हे पितः समय उपस्थितवान् यथा तव पुत्रस्तव महिमानं प्रकाशयति तदर्थं त्वं निजपुत्रस्य महिमानं प्रकाशय।',\n",
       "        'and whosoever shall not shall be given unto you that ye shall be not come but into the temple and he saith unto him the son of david'],\n",
       "       ['and they did all eat and were filled and they took up of the fragments that remained twelve baskets full',\n",
       "        'ततः सर्व्वे भुक्त्वा परितृप्तवन्तः ततस्तदवशिष्टभक्ष्यैः पूर्णान् द्वादशडलकान् गृहीतवन्तः।',\n",
       "        'and they took him and took his way before him and when they had heard his wife and was'],\n",
       "       ['who knowing the judgment of god that they which commit such things are worthy of death not only do the same but have pleasure in them that do them',\n",
       "        'ये जना एतादृशं कर्म्म कुर्व्वन्ति तएव मृतियोग्या ईश्वरस्य विचारमीदृशं ज्ञात्वापि त एतादृशं कर्म्म स्वयं कुर्व्वन्ति केवलमिति नहि किन्तु तादृशकर्म्मकारिषु लोकेष्वपि प्रीयन्ते।',\n",
       "        'saying knowing the lord i am the father of you and the law and be not and in the world but the law of the world'],\n",
       "       ['jesus said unto them verily verily i say unto you before abraham was i am',\n",
       "        'यीशुः प्रत्यवादीद् युष्मानहं यथार्थतरं वदामि इब्राहीमो जन्मनः पूर्व्वकालमारभ्याहं विद्ये।',\n",
       "        'jesus said unto them why reason i have heard that she shall be saved'],\n",
       "       ['and certain of the chief of asia which were his friends sent unto him desiring him that he would not adventure himself into the theatre',\n",
       "        'पौलस्यत्मीया आशियादेशस्थाः कतिपयाः प्रधानलोकास्तस्य समीपं नरमेकं प्रेष्य त्वं रङ्गभूमिं मागा इति न्यवेदयन्।',\n",
       "        'and certain of the jews which heard that a certain city and he should not his disciples and they might eat'],\n",
       "       ['i said therefore unto you that ye shall die in your sins for if ye believe not that i am he ye shall die in your sins',\n",
       "        'तस्मात् कथितवान् यूयं निजैः पापै र्मरिष्यथ यतोहं स पुमान् इति यदि न विश्वसिथ तर्हि निजैः पापै र्मरिष्यथ।',\n",
       "        'i know i am i which have not worthy to you that ye shall be given you to me that ye have heard these things'],\n",
       "       ['be it known unto you therefore men and brethren that through this man is preached unto you the forgiveness of sins',\n",
       "        'अतो हे भ्रातरः अनेन जनेन पापमोचनं भवतीति युष्मान् प्रति प्रचारितम् आस्ते।',\n",
       "        'be not known unto you the same men but have not works that ye shall be saved'],\n",
       "       ['according to the custom of the priest s office his lot was to burn incense when he went into the temple of the lord',\n",
       "        'तदा यज्ञस्य दिनपरिपाय्या परमेश्वरस्य मन्दिरे प्रवेशकाले धूपज्वालनं कर्म्म तस्य करणीयमासीत्।',\n",
       "        'according to the jews passover when he was and when he was spoken of any man hath given us to god'],\n",
       "       ['nevertheless the centurion believed the master and the owner of the ship more than those things which were spoken by paul',\n",
       "        'तदा शतसेनापतिः पौैेलोक्तवाक्यतोपि कर्णधारस्य पोतवणिजश्च वाक्यं बहुमंस्त।',\n",
       "        'nevertheless the voice of his disciples jesus'],\n",
       "       ['and i knew him not but he that sent me to baptize with water the same said unto me upon whom thou shalt see the spirit descending and remaining on him the same is he which baptizeth with the holy ghost',\n",
       "        'नाहमेनं प्रत्यभिज्ञातवान् इति सत्यं किन्तु यो जले मज्जयितुं मां प्रैरयत् स एवेमां कथामकथयत् यस्योपर्य्यात्मानम् अवतरन्तम् अवतिष्ठन्तञ्च द्रक्षयसि सएव पवित्रे आत्मनि मज्जयिष्यति।',\n",
       "        'and he said unto him thou art thou shalt not my father s son and i will give thee to me the lord hath not afraid but he that hath given me they'],\n",
       "       ['and barnabas and saul returned from jerusalem when they had fulfilled their ministry and took with them john whose surname was mark',\n",
       "        'तदा हेरोद् ईश्वरस्य सम्मानं नाकरोत् तस्माद्धेतोः परमेश्वरस्य दूतो हठात् तं प्राहरत् तेनैव स कीटैः क्षीणः सन् प्राणान् अजहात्। किन्त्वीश्वरस्य कथा देशं व्याप्य प्रबलाभवत्। ततः परं बर्णब्बाशौलौ यस्य कर्म्मणो भारं प्राप्नुतां ताभ्यां तस्मिन् सम्पादिते सति मार्कनाम्ना विख्यातो यो योहन् तं सङ्गिनं कृत्वा यिरूशालम्नगरात् प्रत्यागतौ।',\n",
       "        'and jesus as they returned with a loud voice and when the people had been brought out with a loud voice and said unto them saying how he said unto him lord thou shalt not believe that i am he that hath given me thee thou shalt not believe on hi'],\n",
       "       ['blessed is he that readeth and they that hear the words of this prophecy and keep those things which are written therein for the time is at hand',\n",
       "        'एतस्य भविष्यद्वक्तृग्रन्थस्य वाक्यानां पाठकः श्रोतारश्च तन्मध्ये लिखिताज्ञाग्राहिणश्च धन्या यतः स कालः सन्निकटः।',\n",
       "        'blessed is the truth i have seen and the world shall not be ashamed for he is not lawful to do and he said unto him'],\n",
       "       ['verily verily i say unto you the servant is not greater than his lord neither he that is sent greater than he that sent him',\n",
       "        'अहं युष्मानतियथार्थं वदामि प्रभो र्दासो न महान् प्रेरकाच्च प्रेरितो न महान्।',\n",
       "        'verily verily i say unto you the lord say unto you ye shall not my father s son be given'],\n",
       "       ['but jesus called them unto him and said suffer little children to come unto me and forbid them not for of such is the kingdom of god',\n",
       "        'किन्तु यीशुस्तानाहूय जगाद मन्निकटम् आगन्तुं शिशून् अनुजानीध्वं तांश्च मा वारयत यत ईश्वरराज्याधिकारिण एषां सदृशाः।',\n",
       "        'but jesus said unto him lord and said unto him thou art thou shalt not the son of man is that i will give thee'],\n",
       "       ['for he beholdeth himself and goeth his way and straightway forgetteth what manner of man he was',\n",
       "        'आत्माकारे दृष्टे स प्रस्थाय कीदृश आसीत् तत् तत्क्षणाद् विस्मरति।',\n",
       "        'for he beholdeth himself and he that was a great company and returned the way side and the keepers before the people s womb and was made with the people'],\n",
       "       ['and they answered jesus and said we cannot tell and he said unto them neither tell i you by what authority i do these things',\n",
       "        'तस्मात् ते यीशुं प्रत्यवदन् तद् वयं न विद्मः। तदा स तानुक्तवान् तर्हि केन सामरथ्येन कर्म्माण्येतान्यहं करोमि तदप्यहं युष्मान् न वक्ष्यामि।',\n",
       "        'and there answered him he said unto her brethren we say unto you that they said unto you ye have a devil and he saith unto him thou art thou clean the son of man is the son of god'],\n",
       "       ['let your light so shine before men that they may see your good works and glorify your father which is in heaven',\n",
       "        'येन मानवा युष्माकं सत्कर्म्माणि विलोक्य युष्माकं स्वर्गस्थं पितरं धन्यं वदन्ति तेषां समक्षं युष्माकं दीप्तिस्तादृक् प्रकाशताम्।',\n",
       "        'let for righteousness lest they say god not to be cast out the same for your father which is not lawful to do'],\n",
       "       ['and jesus rebuked him saying hold thy peace and come out of him',\n",
       "        'तदा यीशुस्तं तर्जयित्वा जगाद तूष्णीं भव इतो बहिर्भव च।',\n",
       "        'and jesus rebuked him saying him and said he not shall be saved'],\n",
       "       ['and they spake unto him the word of the lord and to all that were in his house',\n",
       "        'तस्मै तस्य गृहस्थितसर्व्वलोकेभ्यश्च प्रभोः कथां कथितवन्तौ।',\n",
       "        'and they therefore took him in the temple and of the jews'],\n",
       "       ['not that any man hath seen the father save he which is of god he hath seen the father',\n",
       "        'य ईश्वराद् अजायत तं विना कोपि मनुष्यो जनकं नादर्शत् केवलः सएव तातम् अद्राक्षीत्।',\n",
       "        'not that all the law hath an high priest who is in the beginning and they did eat and the paps'],\n",
       "       ['and he arose out of the synagogue and entered into simon s house and simon s wife s mother was taken with a great fever and they besought him for her',\n",
       "        'तदनन्तरं स भजनगेहाद् बहिरागत्य शिमोनो निवेशनं प्रविवेश तदा तस्य श्वश्रूर्ज्वरेणात्यन्तं पीडितासीत् शिष्यास्तदर्थं तस्मिन् विनयं चक्रुः।',\n",
       "        'and he arose and went into a mountain to him then and when he was come and he saith unto him thou art thou clean the son of man'],\n",
       "       ['then paul took the men and the next day purifying himself with them entered into the temple to signify the accomplishment of the days of purification until that an offering should be offered for every one of them',\n",
       "        'ततः पौलस्तान् मानुषानादाय परस्मिन् दिवसे तैः सह शुचि र्भूत्वा मन्दिरं गत्वा शौचकर्म्मणो दिनेषु सम्पूर्णेषु तेषाम् एकैकार्थं नैवेद्याद्युत्सर्गो भविष्यतीति ज्ञापितवान्।',\n",
       "        'then the chief captain and said unto the multitude they that he said unto him what shall i do thee in the beginning and they that thou shouldest be saved'],\n",
       "       ['again i say unto you that if two of you shall agree on earth as touching any thing that they shall ask it shall be done for them of my father which is in heaven',\n",
       "        'पुनरहं युष्मान् वदामि मेदिन्यां युष्माकं यदि द्वावेकवाक्यीभूय किञ्चित् प्रार्थयेते तर्हि मम स्वर्गस्थपित्रा तत् तयोः कृते सम्पन्नं भविष्यति।',\n",
       "        'because unto you unto you that ye are not worthy to you that whosoever shall be given for a sign from heaven and in the law and in the law'],\n",
       "       ['one of the two which heard john speak and followed him was andrew simon peter s brother',\n",
       "        'यौ द्वौ योहनो वाक्यं श्रुत्वा यिशोः पश्चाद् आगमतां तयोः शिमोन्पितरस्य भ्राता आन्द्रियः',\n",
       "        'philip of the jews country round about jordan and they asked him saying master we have done'],\n",
       "       ['but pilate answered them saying will ye that i release unto you the king of the jews',\n",
       "        'तदा पीलातस्तानाचख्यौ तर्हि किं यिहूदीयानां राजानं मोचयिष्यामि युष्माभिः किमिष्यते',\n",
       "        'but he answered saying master what that ye have not worthy to them'],\n",
       "       ['and shall begin to smite his fellowservants and to eat and drink with the drunken',\n",
       "        'ऽपरदासान् प्रहर्त्तुं मत्तानां सङ्गे भोक्तुं पातुञ्च प्रवर्त्तते',\n",
       "        'and shall ye have seen and thou shouldest see the son of man and he that are'],\n",
       "       ['for the eyes of the lord are over the righteous and his ears are open unto their prayers but the face of the lord is against them that do evil',\n",
       "        'लोचने परमेशस्योन्मीलिते धार्म्मिकान् प्रति। प्रार्थनायाः कृते तेषाः तच्छ्रोत्रे सुगमे सदा। क्रोधास्यञ्च परेशस्य कदाचारिषु वर्त्तते।',\n",
       "        'for the son of god hath given me but he said unto him i will give thee thy footstool'],\n",
       "       ['and the high priest ananias commanded them that stood by him to smite him on the mouth',\n",
       "        'अनेन हनानीयनामा महायाजकस्तं कपोले चपेटेनाहन्तुं समीपस्थलोकान् आदिष्टवान्।',\n",
       "        'and the chief priests and commanded the people came to his disciples and they came out and his disciples to him and was'],\n",
       "       ['and there they abode long time with the disciples',\n",
       "        'ततस्तौ शिर्य्यैः सार्द्धं तत्र बहुदिनानि न्यवसताम्।',\n",
       "        'and there went forth they said unto him rabbi'],\n",
       "       ['and they that did eat of the loaves were about five thousand men',\n",
       "        'ते भोक्तारः प्रायः पञ्च सहस्राणि पुरुषा आसन्।',\n",
       "        'and they were astonished at the temple and overthrew the tables of the moneychangers and of the jews'],\n",
       "       ['he riseth from supper and laid aside his garments and took a towel and girded himself',\n",
       "        'तदा यीशु र्भोजनासनाद् उत्थाय गात्रवस्त्रं मोचयित्वा गात्रमार्जनवस्त्रं गृहीत्वा तेन स्वकटिम् अबध्नात्',\n",
       "        'he riseth from supper and when he had seen the jews and he saith unto them we saw and he went'],\n",
       "       ['therefore if thou bring thy gift to the altar and there rememberest that thy brother hath ought against thee',\n",
       "        'अतो वेद्याः समीपं निजनैवेद्ये समानीतेऽपि निजभ्रातरं प्रति कस्माच्चित् कारणात् त्वं यदि दोषी विद्यसे तदानीं तव तस्य स्मृति र्जायते च',\n",
       "        'for i say unto you ye know that ye shall not be here in my name and he will give me to the lord jesus christ and he that are'],\n",
       "       ['to the general assembly and church of the firstborn which are written in heaven and to god the judge of all and to the spirits of just men made perfect',\n",
       "        'स्वर्गे लिखितानां प्रथमजातानाम् उत्सवः समितिश्च सर्व्वेषां विचाराधिपतिरीश्वरः सिद्धीकृतधार्म्मिकानाम् आत्मानो',\n",
       "        'to the general assembly and church of the law of the jews that are in the sea side of the jews preparation and the lord had wrought the preparation of the people and when the lord was nigh themselves'],\n",
       "       ['or else let these same here say if they have found any evil doing in me while i stood before the council',\n",
       "        'नोचेत् पूर्व्वे महासभास्थानां लोकानां सन्निधौ मम दण्डायमानत्वसमये अहमद्य मृतानामुत्थाने युष्माभि र्विचारितोस्मि',\n",
       "        'or else let neither do ye say unto you they shall not receive you in the kingdom of god'],\n",
       "       ['there cometh a woman of samaria to draw water jesus saith unto her give me to drink',\n",
       "        'एतर्हि काचित् शोमिरोणीया योषित् तोयोत्तोलनार्थम् तत्रागमत्',\n",
       "        'there stood the next day we suborned the lord was wont to thy disciples saith unto them rabbi'],\n",
       "       ['and they kept that saying with themselves questioning one with another what the rising from the dead should mean',\n",
       "        'तदा श्मशानादुत्थानस्य कोभिप्राय इति विचार्य्य ते तद्वाक्यं स्वेषु गोपायाञ्चक्रिरे।',\n",
       "        'and they that were in the temple and there was a great eagle that he had spoken him unto them'],\n",
       "       ['which was the son of simeon which was the son of juda which was the son of joseph which was the son of jonan which was the son of eliakim',\n",
       "        'लेविः शिमियोनः पुत्रः शिमियोन् यिहूदाः पुत्रः यिहूदा यूषुफः पुत्रः यूषुफ् योननः पुत्रः यानन् इलीयाकीमः पुत्रः।',\n",
       "        'which was the son of simeon which was the son of juda which was the son of joseph which was the son of joseph which was the son of joseph which was the son than the son which milk for the son of abraham was the son of abraham which was the son of alphaeus '],\n",
       "       ['and when he came out he could not speak unto them and they perceived that he had seen a vision in the temple for he beckoned unto them and remained speechless',\n",
       "        'स बहिरागतो यदा किमपि वाक्यं वक्तुमशक्तः सङ्केतं कृत्वा निःशब्दस्तस्यौ तदा मध्येमन्दिरं कस्यचिद् दर्शनं तेन प्राप्तम् इति सर्व्वे बुबुधिरे।',\n",
       "        'and when he had thus said said unto her brethren they said unto them go ye and said unto him what shall we do thee and he saith unto him'],\n",
       "       ['as soon as jesus heard the word that was spoken he saith unto the ruler of the synagogue be not afraid only believe',\n",
       "        'किन्तु यीशुस्तद् वाक्यं श्रुत्वैव भजनगृहाधिपं गदितवान् मा भैषीः केवलं विश्वासिहि।',\n",
       "        'but when he answered any man in the midst of the lord jesus saith unto them what shall we do not'],\n",
       "       ['when they were past the first and the second ward they came unto the iron gate that leadeth unto the city which opened to them of his own accord and they went out and passed on through one street and forthwith the angel departed from him',\n",
       "        'इत्थं तौ प्रथमां द्वितीयाञ्च कारां लङ्घित्वा येन लौहनिर्म्मितद्वारेण नगरं गम्यते तत्समीपं प्राप्नुतां ततस्तस्य कवाटं स्वयं मुक्तमभवत् ततस्तौ तत्स्थानाद् बहि र्भूत्वा मार्गैकस्य सीमां यावद् गतौ ततोऽकस्मात् स दूतः पितरं त्यक्तवान्।',\n",
       "        'when they had a certain man named indignation unto her which was mighty and which was taken up he fell on him and when he had heard his hand was said unto him why baptizest thou me on the sabbath days'],\n",
       "       ['and it came to pass when he was in a certain city behold a man full of leprosy who seeing jesus fell on his face and besought him saying lord if thou wilt thou canst make me clean',\n",
       "        'ततः परं यीशौ कस्मिंश्चित् पुरे तिष्ठति जन एकः सर्व्वाङ्गकुष्ठस्तं विलोक्य तस्य समीपे न्युब्जः पतित्वा सविनयं वक्तुमारेभे हे प्रभो यदि भवानिच्छति तर्हि मां परिष्कर्त्तुं शक्नोति।',\n",
       "        'and when he had received jesus from them that he was the third day and he answering said unto them why callest thou me and slothful servant thou shalt not see me and he that hath ears to be cast into the kingdom of god'],\n",
       "       ['and judas iscariot which also betrayed him and they went into an house',\n",
       "        'स शिमोने पितर इत्युपनाम ददौ याकूब्योहन्भ्यां च बिनेरिगिश् अर्थतो मेघनादपुत्रावित्युपनाम ददौ।',\n",
       "        'and judas iscariot which came and all him were with him'],\n",
       "       ['and he said unto her for this saying go thy way the devil is gone out of thy daughter',\n",
       "        'ततः सोऽकथयद् एतत्कथाहेतोः सकुशला याहि तव कन्यां त्यक्त्वा भूतो गतः।',\n",
       "        'and he said unto her how he would not come and to be baptized and they shall be'],\n",
       "       ['and pray ye that your flight be not in the winter',\n",
       "        'युष्माकं पलायनं शीतकाले यथा न भवति तदर्थं प्रार्थयध्वं।',\n",
       "        'and pray ye that the world are ye in heaven and a great'],\n",
       "       ['the law and the prophets were until john since that time the kingdom of god is preached and every man presseth into it',\n",
       "        'योहन आगमनपर्य्यनतं युष्माकं समीपे व्यवस्थाभविष्यद्वादिनां लेखनानि चासन् ततः प्रभृति ईश्वरराज्यस्य सुसंवादः प्रचरति एकैको लोकस्तन्मध्यं यत्नेन प्रविशति च।',\n",
       "        'the gospel of the lord and the brightness of the jews shall remain that he had seen them in you in a furnace of the sea and man had done by jesus'],\n",
       "       ['and he released unto them him that for sedition and murder was cast into prison whom they had desired but he delivered jesus to their will',\n",
       "        'राजद्रोहवधयोरपराधेन कारास्थं यं जनं ते ययाचिरे तं मोचयित्वा यीशुं तेषामिच्छायां समार्पयत्।',\n",
       "        'and he said unto him that many days he removed and he said unto him lord thou shalt not believe that i am'],\n",
       "       ['and he entered into one of the ships which was simon s and prayed him that he would thrust out a little from the land and he sat down and taught the people out of the ship',\n",
       "        'ततस्तयोर्द्वयो र्मध्ये शिमोनो नावमारुह्य तीरात् किञ्चिद्दूरं यातुं तस्मिन् विनयं कृत्वा नौकायामुपविश्य लोकान् प्रोपदिष्टवान्।',\n",
       "        'and jesus answered him of the temple of the temple and saith unto them not the same is done unto you'],\n",
       "       ['now in the place where he was crucified there was a garden and in the garden a new sepulchre wherein was never man yet laid',\n",
       "        'अपरञ्च यत्र स्थाने तं क्रुशेऽविधन् तस्य निकटस्थोद्याने यत्र किमपि मृतदेहं कदापि नास्थाप्यत तादृशम् एकं नूतनं श्मशानम् आसीत्।',\n",
       "        'now many of the jews which he would do not and brought forth a great eagle be loosed at the sea'],\n",
       "       ['and as he thus spake for himself festus said with a loud voice paul thou art beside thyself much learning doth make thee mad',\n",
       "        'तस्यमां कथां निशम्य फीष्ट उच्चैः स्वरेण कथितवान् हे पौल त्वम् उन्मत्तोसि बहुविद्याभ्यासेन त्वं हतज्ञानो जातः।',\n",
       "        'and as he said unto her parents therefore when he was a certain man clothed with a cloud and brethren he said unto them the same hour i came out of them'],\n",
       "       ['now when the centurion and they that were with him watching jesus saw the earthquake and those things that were done they feared greatly saying truly this was the son of god',\n",
       "        'यीशुरक्षणाय नियुक्तः शतसेनापतिस्तत्सङ्गिनश्च तादृशीं भूकम्पादिघटनां दृष्ट्वा भीता अवदन् एष ईश्वरपुत्रो भवति।',\n",
       "        'now when the jews and they were filled and they caught him and drew nigh unto him they brought the word of her'],\n",
       "       ['and the lord said if ye had faith as a grain of mustard seed ye might say unto this sycamine tree be thou plucked up by the root and be thou planted in the sea and it should obey you',\n",
       "        'प्रभुरुवाच यदि युष्माकं सर्षपैकप्रमाणो विश्वासोस्ति तर्हि त्वं समूलमुत्पाटितो भूत्वा समुद्रे रोपितो भव कथायाम् एतस्याम् एतदुडुम्बराय कथितायां स युष्माकमाज्ञावहो भविष्यति।',\n",
       "        'and whosoever shall he said unto them that is in heaven or what shall ye be your children but if ye hear him be to be that'],\n",
       "       ['these things have i spoken unto you that ye should not be offended',\n",
       "        'युष्माकं यथा वाधा न जायते तदर्थं युष्मान् एतानि सर्व्ववाक्यानि व्याहरं।',\n",
       "        'these things have i spoken unto you that ye may be saved'],\n",
       "       ['but neither so did their witness agree together',\n",
       "        'किन्तु तत्रापि तेषां साक्ष्यकथा न सङ्गाताः।',\n",
       "        'but for us all their own deceivings while the things were nigh'],\n",
       "       ['then said paul john verily baptized with the baptism of repentance saying unto the people that they should believe on him which should come after him that is on christ jesus',\n",
       "        'तदा पौल उक्तवान् इतः परं य उपस्थास्यति तस्मिन् अर्थत यीशुख्रीष्टे विश्वसितव्यमित्युक्त्वा योहन् मनःपरिवर्त्तनसूचकेन मज्जनेन जले लोकान् अमज्जयत्।',\n",
       "        'then said jesus was come saying of them of the temple and the herd of the lord jesus was gone out into the temple and they were with him and the kingdom of god had no more'],\n",
       "       ['and he laid his hands on them and departed thence',\n",
       "        'ततः स तेषां गात्रेषु हस्तं दत्वा तस्मात् स्थानात् प्रतस्थे।',\n",
       "        'and he came out of their hands and went forth conquering and kissed him'],\n",
       "       ['and many false prophets shall rise and shall deceive many',\n",
       "        'तथा बहवो मृषाभविष्यद्वादिन उपस्थाय बहून् भ्रमयिष्यन्ति।',\n",
       "        'and many that were in a certain woman which were hewn down and by'],\n",
       "       ['and he confessed and denied not but confessed i am not the christ',\n",
       "        'तदा स स्वीकृतवान् नापह्नूतवान् नाहम् अभिषिक्त इत्यङ्गीकृतवान्।',\n",
       "        'and he was the first and the elders saying lord thy brother'],\n",
       "       ['and when he saw them he said unto them go shew yourselves unto the priests and it came to pass that as they went they were cleansed',\n",
       "        'ततः स तान् दृष्ट्वा जगाद यूयं याजकानां समीपे स्वान् दर्शयत ततस्ते गच्छन्तो रोगात् परिष्कृताः।',\n",
       "        'and when he saw he said unto them why do ye have a devil and he saith unto him thou hast paid the house'],\n",
       "       ['and he that seeth me seeth him that sent me',\n",
       "        'यो जनो मां पश्यति स मत्प्रेरकमपि पश्यति।',\n",
       "        'and he that receiveth it lawful to him that he said unto me'],\n",
       "       ['and when ye shall see jerusalem compassed with armies then know that the desolation thereof is nigh',\n",
       "        'अपरञ्च यिरूशालम्पुरं सैन्यवेष्टितं विलोक्य तस्योच्छिन्नतायाः समयः समीप इत्यवगमिष्यथ।',\n",
       "        'and when he shall not the law of his own country a new wine and they shall say to be delivered into the kingdom of god']],\n",
       "      dtype='<U328')"
      ]
     },
     "execution_count": 62,
     "metadata": {
      "tags": []
     },
     "output_type": "execute_result"
    }
   ],
   "source": [
    "res_out"
   ]
  }
 ],
 "metadata": {
  "accelerator": "GPU",
  "colab": {
   "collapsed_sections": [],
   "name": "WordLevelEngMarNMT.ipynb",
   "provenance": [],
   "toc_visible": true,
   "version": "0.3.2"
  },
  "kernelspec": {
   "display_name": "Python 2",
   "language": "python",
   "name": "python2"
  },
  "language_info": {
   "codemirror_mode": {
    "name": "ipython",
    "version": 2
   },
   "file_extension": ".py",
   "mimetype": "text/x-python",
   "name": "python",
   "nbconvert_exporter": "python",
   "pygments_lexer": "ipython2",
   "version": "2.7.12"
  }
 },
 "nbformat": 4,
 "nbformat_minor": 1
}
